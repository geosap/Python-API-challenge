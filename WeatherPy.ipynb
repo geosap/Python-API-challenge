{
 "cells": [
  {
   "cell_type": "markdown",
   "metadata": {},
   "source": [
    "# WeatherPy\n",
    "----\n",
    "\n",
    "#### Note\n",
    "* Instructions have been included for each segment. You do not have to follow them exactly, but they are included to help you think through the steps."
   ]
  },
  {
   "cell_type": "code",
   "execution_count": 1,
   "metadata": {
    "scrolled": true
   },
   "outputs": [],
   "source": [
    "# Dependencies and Setup\n",
    "import matplotlib.pyplot as plt\n",
    "import pandas as pd\n",
    "import numpy as np\n",
    "import requests\n",
    "import time\n",
    "from scipy.stats import linregress\n",
    "import urllib\n",
    "\n",
    "# Import API key\n",
    "from api_keys import weather_api_key\n",
    "\n",
    "# Incorporated citipy to determine city based on latitude and longitude\n",
    "from citipy import citipy\n",
    "\n",
    "# Output File (CSV)\n",
    "output_data_file = \"output_data/cities.csv\"\n",
    "\n",
    "# Range of latitudes and longitudes\n",
    "lat_range = (-90, 90)\n",
    "lng_range = (-180, 180)"
   ]
  },
  {
   "cell_type": "markdown",
   "metadata": {},
   "source": [
    "## Generate Cities List"
   ]
  },
  {
   "cell_type": "code",
   "execution_count": 2,
   "metadata": {},
   "outputs": [
    {
     "data": {
      "text/plain": [
       "616"
      ]
     },
     "execution_count": 2,
     "metadata": {},
     "output_type": "execute_result"
    }
   ],
   "source": [
    "# List for holding lat_lngs and cities\n",
    "lat_lngs = []\n",
    "cities = []\n",
    "\n",
    "# Create a set of random lat and lng combinations\n",
    "lats = np.random.uniform(lat_range[0], lat_range[1], size=1500)\n",
    "lngs = np.random.uniform(lng_range[0], lng_range[1], size=1500)\n",
    "lat_lngs = zip(lats, lngs)\n",
    "\n",
    "# Identify nearest city for each lat, lng combination\n",
    "for lat_lng in lat_lngs:\n",
    "    city = citipy.nearest_city(lat_lng[0], lat_lng[1]).city_name\n",
    "    \n",
    "    # If the city is unique, then add it to a our cities list\n",
    "    if city not in cities:\n",
    "        cities.append(city)\n",
    "\n",
    "# Print the city count to confirm sufficient count\n",
    "len(cities)"
   ]
  },
  {
   "cell_type": "code",
   "execution_count": 3,
   "metadata": {},
   "outputs": [
    {
     "name": "stdout",
     "output_type": "stream",
     "text": [
      "Beginning Data Retrieval     \n",
      "-----------------------------\n",
      "Processing Record 1 of Set 1 | mar del plata\n",
      "Processing Record 2 of Set 1 | atuona\n",
      "Processing Record 3 of Set 1 | kamina\n",
      "Processing Record 4 of Set 1 | vaini\n",
      "Processing Record 5 of Set 1 | bay roberts\n",
      "Processing Record 6 of Set 1 | nisia floresta\n",
      "Processing Record 7 of Set 1 | kushmurun\n",
      "Processing Record 8 of Set 1 | sao filipe\n",
      "Processing Record 9 of Set 1 | cape town\n",
      "Processing Record 10 of Set 1 | port alfred\n",
      "Processing Record 11 of Set 1 | belushya guba\n",
      "City not found. Skipping...\n",
      "Processing Record 12 of Set 1 | mamallapuram\n",
      "Processing Record 13 of Set 1 | dikson\n",
      "Processing Record 14 of Set 1 | butaritari\n",
      "Processing Record 15 of Set 1 | rikitea\n",
      "Processing Record 16 of Set 1 | taolanaro\n",
      "City not found. Skipping...\n",
      "Processing Record 17 of Set 1 | hervey bay\n",
      "Processing Record 18 of Set 1 | saskylakh\n",
      "Processing Record 19 of Set 1 | goderich\n",
      "Processing Record 20 of Set 1 | barrow\n",
      "Processing Record 21 of Set 1 | saint-philippe\n",
      "Processing Record 22 of Set 1 | ngunguru\n",
      "Processing Record 23 of Set 1 | saint-joseph\n",
      "Processing Record 24 of Set 1 | ushuaia\n",
      "Processing Record 25 of Set 1 | bria\n",
      "Processing Record 26 of Set 1 | jamestown\n",
      "Processing Record 27 of Set 1 | coihaique\n",
      "Processing Record 28 of Set 1 | ribeira grande\n",
      "Processing Record 29 of Set 1 | qabis\n",
      "City not found. Skipping...\n",
      "Processing Record 30 of Set 1 | placido de castro\n",
      "Processing Record 31 of Set 1 | kapaa\n",
      "Processing Record 32 of Set 1 | carbonia\n",
      "Processing Record 33 of Set 1 | cherskiy\n",
      "Processing Record 34 of Set 1 | albany\n",
      "Processing Record 35 of Set 1 | bandarbeyla\n",
      "Processing Record 36 of Set 1 | iqaluit\n",
      "Processing Record 37 of Set 1 | castro\n",
      "Processing Record 38 of Set 1 | naliya\n",
      "Processing Record 39 of Set 1 | narsaq\n",
      "Processing Record 40 of Set 1 | singarayakonda\n",
      "Processing Record 41 of Set 1 | mys shmidta\n",
      "City not found. Skipping...\n",
      "Processing Record 42 of Set 1 | nikolskoye\n",
      "Processing Record 43 of Set 1 | yar-sale\n",
      "Processing Record 44 of Set 1 | thompson\n",
      "Processing Record 45 of Set 1 | east london\n",
      "Processing Record 46 of Set 1 | bridgwater\n",
      "Processing Record 47 of Set 1 | port elizabeth\n",
      "Processing Record 48 of Set 1 | mataura\n",
      "Processing Record 49 of Set 1 | busselton\n",
      "Processing Record 50 of Set 1 | bengkulu\n",
      "Processing Record 0 of Set 2 | illoqqortoormiut\n",
      "City not found. Skipping...\n",
      "Processing Record 1 of Set 2 | lebu\n",
      "Processing Record 2 of Set 2 | conil\n",
      "Processing Record 3 of Set 2 | punta arenas\n",
      "Processing Record 4 of Set 2 | bluff\n",
      "Processing Record 5 of Set 2 | magog\n",
      "Processing Record 6 of Set 2 | hermanus\n",
      "Processing Record 7 of Set 2 | nhulunbuy\n",
      "Processing Record 8 of Set 2 | faanui\n",
      "Processing Record 9 of Set 2 | kaitangata\n",
      "Processing Record 10 of Set 2 | nyurba\n",
      "Processing Record 11 of Set 2 | pevek\n",
      "Processing Record 12 of Set 2 | karratha\n",
      "Processing Record 13 of Set 2 | esperance\n",
      "Processing Record 14 of Set 2 | carnarvon\n",
      "Processing Record 15 of Set 2 | araioses\n",
      "Processing Record 16 of Set 2 | louisbourg\n",
      "City not found. Skipping...\n",
      "Processing Record 17 of Set 2 | sorland\n",
      "Processing Record 18 of Set 2 | bethel\n",
      "Processing Record 19 of Set 2 | namibe\n",
      "Processing Record 20 of Set 2 | phan thiet\n",
      "Processing Record 21 of Set 2 | provideniya\n",
      "Processing Record 22 of Set 2 | bonfim\n",
      "Processing Record 23 of Set 2 | shihezi\n",
      "Processing Record 24 of Set 2 | san cristobal\n",
      "Processing Record 25 of Set 2 | arraial do cabo\n",
      "Processing Record 26 of Set 2 | hithadhoo\n",
      "Processing Record 27 of Set 2 | hamilton\n",
      "Processing Record 28 of Set 2 | oranjestad\n",
      "Processing Record 29 of Set 2 | ilulissat\n",
      "Processing Record 30 of Set 2 | ibra\n",
      "Processing Record 31 of Set 2 | cubuk\n",
      "Processing Record 32 of Set 2 | hilo\n",
      "Processing Record 33 of Set 2 | naushki\n",
      "Processing Record 34 of Set 2 | tuktoyaktuk\n",
      "Processing Record 35 of Set 2 | dabakala\n",
      "Processing Record 36 of Set 2 | hobart\n",
      "Processing Record 37 of Set 2 | chuy\n",
      "Processing Record 38 of Set 2 | maniitsoq\n",
      "Processing Record 39 of Set 2 | bredasdorp\n",
      "Processing Record 40 of Set 2 | exaplatanos\n",
      "Processing Record 41 of Set 2 | puerto ayora\n",
      "Processing Record 42 of Set 2 | beringovskiy\n",
      "Processing Record 43 of Set 2 | natal\n",
      "Processing Record 44 of Set 2 | kununurra\n",
      "Processing Record 45 of Set 2 | japura\n",
      "Processing Record 46 of Set 2 | safford\n",
      "Processing Record 47 of Set 2 | richards bay\n",
      "Processing Record 48 of Set 2 | tasiilaq\n",
      "Processing Record 49 of Set 2 | coos bay\n",
      "Processing Record 0 of Set 3 | burica\n",
      "City not found. Skipping...\n",
      "Processing Record 1 of Set 3 | bambous virieux\n",
      "Processing Record 2 of Set 3 | souillac\n",
      "Processing Record 3 of Set 3 | georgetown\n",
      "Processing Record 4 of Set 3 | carora\n",
      "Processing Record 5 of Set 3 | rorvik\n",
      "Processing Record 6 of Set 3 | katsuura\n",
      "Processing Record 7 of Set 3 | tiksi\n",
      "Processing Record 8 of Set 3 | hobyo\n",
      "Processing Record 9 of Set 3 | avarua\n",
      "Processing Record 10 of Set 3 | ponta do sol\n",
      "Processing Record 11 of Set 3 | challans\n",
      "Processing Record 12 of Set 3 | beira\n",
      "Processing Record 13 of Set 3 | yulara\n",
      "Processing Record 14 of Set 3 | yellowknife\n",
      "Processing Record 15 of Set 3 | donskoy\n",
      "Processing Record 16 of Set 3 | nantucket\n",
      "Processing Record 17 of Set 3 | parabel\n",
      "Processing Record 18 of Set 3 | alvorada\n",
      "Processing Record 19 of Set 3 | alta floresta\n",
      "Processing Record 20 of Set 3 | usinsk\n",
      "Processing Record 21 of Set 3 | homer\n",
      "Processing Record 22 of Set 3 | chokurdakh\n",
      "Processing Record 23 of Set 3 | khangah dogran\n",
      "Processing Record 24 of Set 3 | acari\n",
      "Processing Record 25 of Set 3 | chara\n",
      "Processing Record 26 of Set 3 | kirakira\n",
      "Processing Record 27 of Set 3 | tuatapere\n",
      "Processing Record 28 of Set 3 | nizwa\n",
      "Processing Record 29 of Set 3 | kodiak\n",
      "Processing Record 30 of Set 3 | koratla\n",
      "Processing Record 31 of Set 3 | la ronge\n",
      "Processing Record 32 of Set 3 | zharkent\n",
      "Processing Record 33 of Set 3 | flin flon\n",
      "Processing Record 34 of Set 3 | amarante do maranhao\n",
      "Processing Record 35 of Set 3 | pontianak\n",
      "Processing Record 36 of Set 3 | srednekolymsk\n",
      "Processing Record 37 of Set 3 | mao\n",
      "Processing Record 38 of Set 3 | aykhal\n",
      "Processing Record 39 of Set 3 | evensk\n",
      "Processing Record 40 of Set 3 | grand river south east\n",
      "City not found. Skipping...\n",
      "Processing Record 41 of Set 3 | te anau\n",
      "Processing Record 42 of Set 3 | charyshskoye\n",
      "Processing Record 43 of Set 3 | qaqortoq\n",
      "Processing Record 44 of Set 3 | marsaxlokk\n",
      "Processing Record 45 of Set 3 | novoasbest\n",
      "Processing Record 46 of Set 3 | san vicente de canete\n",
      "Processing Record 47 of Set 3 | kahului\n",
      "Processing Record 48 of Set 3 | lompoc\n",
      "Processing Record 49 of Set 3 | bulusan\n",
      "Processing Record 0 of Set 4 | manjacaze\n",
      "Processing Record 1 of Set 4 | port blair\n",
      "Processing Record 2 of Set 4 | dongling\n",
      "Processing Record 3 of Set 4 | axim\n",
      "Processing Record 4 of Set 4 | chulman\n",
      "Processing Record 5 of Set 4 | cabra\n",
      "Processing Record 6 of Set 4 | paamiut\n",
      "Processing Record 7 of Set 4 | nanakuli\n",
      "Processing Record 8 of Set 4 | khandyga\n",
      "Processing Record 9 of Set 4 | labuhan\n",
      "Processing Record 10 of Set 4 | suamico\n",
      "Processing Record 11 of Set 4 | sur\n",
      "Processing Record 12 of Set 4 | kloulklubed\n",
      "Processing Record 13 of Set 4 | rungata\n",
      "City not found. Skipping...\n",
      "Processing Record 14 of Set 4 | noumea\n",
      "Processing Record 15 of Set 4 | chapada dos guimaraes\n",
      "Processing Record 16 of Set 4 | lagoa\n",
      "Processing Record 17 of Set 4 | qaanaaq\n",
      "Processing Record 18 of Set 4 | grand gaube\n",
      "Processing Record 19 of Set 4 | new norfolk\n",
      "Processing Record 20 of Set 4 | clarence town\n",
      "Processing Record 21 of Set 4 | kruisfontein\n",
      "Processing Record 22 of Set 4 | azimur\n",
      "City not found. Skipping...\n",
      "Processing Record 23 of Set 4 | santa rosa\n",
      "Processing Record 24 of Set 4 | smithers\n",
      "Processing Record 25 of Set 4 | suslovo\n",
      "Processing Record 26 of Set 4 | tezu\n",
      "Processing Record 27 of Set 4 | yingcheng\n",
      "Processing Record 28 of Set 4 | severo-kurilsk\n",
      "Processing Record 29 of Set 4 | wloclawek\n",
      "Processing Record 30 of Set 4 | mufumbwe\n",
      "Processing Record 31 of Set 4 | djibo\n",
      "Processing Record 32 of Set 4 | kaspiysk\n",
      "Processing Record 33 of Set 4 | sibu\n",
      "Processing Record 34 of Set 4 | chapais\n",
      "Processing Record 35 of Set 4 | zalesovo\n",
      "Processing Record 36 of Set 4 | caravelas\n",
      "Processing Record 37 of Set 4 | haapu\n",
      "City not found. Skipping...\n",
      "Processing Record 38 of Set 4 | awjilah\n",
      "Processing Record 39 of Set 4 | namatanai\n",
      "Processing Record 40 of Set 4 | nanortalik\n"
     ]
    },
    {
     "name": "stdout",
     "output_type": "stream",
     "text": [
      "Processing Record 41 of Set 4 | dubbo\n",
      "Processing Record 42 of Set 4 | balikpapan\n",
      "Processing Record 43 of Set 4 | bolungarvik\n",
      "City not found. Skipping...\n",
      "Processing Record 44 of Set 4 | angra\n",
      "City not found. Skipping...\n",
      "Processing Record 45 of Set 4 | tadine\n",
      "Processing Record 46 of Set 4 | belyy yar\n",
      "Processing Record 47 of Set 4 | belaya gora\n",
      "Processing Record 48 of Set 4 | airai\n",
      "Processing Record 49 of Set 4 | port lincoln\n",
      "Processing Record 0 of Set 5 | iquique\n",
      "Processing Record 1 of Set 5 | harper\n",
      "Processing Record 2 of Set 5 | baryshivka\n",
      "Processing Record 3 of Set 5 | mopipi\n",
      "Processing Record 4 of Set 5 | san patricio\n",
      "Processing Record 5 of Set 5 | port hueneme\n",
      "Processing Record 6 of Set 5 | mitchell\n",
      "Processing Record 7 of Set 5 | morgan city\n",
      "Processing Record 8 of Set 5 | cidreira\n",
      "Processing Record 9 of Set 5 | kavieng\n",
      "Processing Record 10 of Set 5 | rawson\n",
      "Processing Record 11 of Set 5 | ust-kuyga\n",
      "Processing Record 12 of Set 5 | carutapera\n",
      "Processing Record 13 of Set 5 | vila velha\n",
      "Processing Record 14 of Set 5 | uvat\n",
      "Processing Record 15 of Set 5 | perpignan\n",
      "Processing Record 16 of Set 5 | hargeysa\n",
      "Processing Record 17 of Set 5 | sistranda\n",
      "Processing Record 18 of Set 5 | kailua\n",
      "Processing Record 19 of Set 5 | laramie\n",
      "Processing Record 20 of Set 5 | mandalgovi\n",
      "Processing Record 21 of Set 5 | westport\n",
      "Processing Record 22 of Set 5 | barentsburg\n",
      "City not found. Skipping...\n",
      "Processing Record 23 of Set 5 | victoria\n",
      "Processing Record 24 of Set 5 | tumannyy\n",
      "City not found. Skipping...\n",
      "Processing Record 25 of Set 5 | sao gabriel da cachoeira\n",
      "Processing Record 26 of Set 5 | betsiamites\n",
      "Processing Record 27 of Set 5 | pisco\n",
      "Processing Record 28 of Set 5 | greenville\n",
      "Processing Record 29 of Set 5 | sulangan\n",
      "Processing Record 30 of Set 5 | mahebourg\n",
      "Processing Record 31 of Set 5 | olafsvik\n",
      "Processing Record 32 of Set 5 | luwingu\n",
      "Processing Record 33 of Set 5 | khatanga\n",
      "Processing Record 34 of Set 5 | palabuhanratu\n",
      "City not found. Skipping...\n",
      "Processing Record 35 of Set 5 | porterville\n",
      "Processing Record 36 of Set 5 | diamantino\n",
      "Processing Record 37 of Set 5 | half moon bay\n",
      "Processing Record 38 of Set 5 | hermosillo\n",
      "Processing Record 39 of Set 5 | brae\n",
      "Processing Record 40 of Set 5 | atar\n",
      "Processing Record 41 of Set 5 | tuggurt\n",
      "City not found. Skipping...\n",
      "Processing Record 42 of Set 5 | maghama\n",
      "City not found. Skipping...\n",
      "Processing Record 43 of Set 5 | rocha\n",
      "Processing Record 44 of Set 5 | nome\n",
      "Processing Record 45 of Set 5 | shimoda\n",
      "Processing Record 46 of Set 5 | porto belo\n",
      "Processing Record 47 of Set 5 | kumasi\n",
      "Processing Record 48 of Set 5 | serra talhada\n",
      "Processing Record 49 of Set 5 | huejuquilla el alto\n",
      "Processing Record 0 of Set 6 | ko samui\n",
      "Processing Record 1 of Set 6 | sitka\n",
      "Processing Record 2 of Set 6 | verkhniye kigi\n",
      "Processing Record 3 of Set 6 | egvekinot\n",
      "Processing Record 4 of Set 6 | san quintin\n",
      "Processing Record 5 of Set 6 | shache\n",
      "Processing Record 6 of Set 6 | saldanha\n",
      "Processing Record 7 of Set 6 | miles city\n",
      "Processing Record 8 of Set 6 | severnyy-kospashskiy\n",
      "Processing Record 9 of Set 6 | vicuna\n",
      "Processing Record 10 of Set 6 | fortuna\n",
      "Processing Record 11 of Set 6 | vitre\n",
      "Processing Record 12 of Set 6 | bulungu\n",
      "Processing Record 13 of Set 6 | northam\n",
      "Processing Record 14 of Set 6 | anloga\n",
      "Processing Record 15 of Set 6 | nizhneyansk\n",
      "City not found. Skipping...\n",
      "Processing Record 16 of Set 6 | fargo\n",
      "Processing Record 17 of Set 6 | ijaki\n",
      "City not found. Skipping...\n",
      "Processing Record 18 of Set 6 | kavaratti\n",
      "Processing Record 19 of Set 6 | clyde river\n",
      "Processing Record 20 of Set 6 | alofi\n",
      "Processing Record 21 of Set 6 | foz\n",
      "Processing Record 22 of Set 6 | avera\n",
      "Processing Record 23 of Set 6 | shu\n",
      "Processing Record 24 of Set 6 | yatou\n",
      "Processing Record 25 of Set 6 | hovd\n",
      "Processing Record 26 of Set 6 | tura\n",
      "Processing Record 27 of Set 6 | santa catarina de tepehuanes\n",
      "Processing Record 28 of Set 6 | sakakah\n",
      "Processing Record 29 of Set 6 | bolshoy tsaryn\n",
      "City not found. Skipping...\n",
      "Processing Record 30 of Set 6 | longyearbyen\n",
      "Processing Record 31 of Set 6 | buchanan\n",
      "Processing Record 32 of Set 6 | batagay\n",
      "Processing Record 33 of Set 6 | nemuro\n",
      "Processing Record 34 of Set 6 | tongchuan\n",
      "Processing Record 35 of Set 6 | lorengau\n",
      "Processing Record 36 of Set 6 | henties bay\n",
      "Processing Record 37 of Set 6 | nuuk\n",
      "Processing Record 38 of Set 6 | attawapiskat\n",
      "City not found. Skipping...\n",
      "Processing Record 39 of Set 6 | saint george\n",
      "Processing Record 40 of Set 6 | coquimbo\n",
      "Processing Record 41 of Set 6 | magadan\n",
      "Processing Record 42 of Set 6 | along\n",
      "Processing Record 43 of Set 6 | port-gentil\n",
      "Processing Record 44 of Set 6 | dicabisagan\n",
      "Processing Record 45 of Set 6 | meybod\n",
      "Processing Record 46 of Set 6 | ahipara\n",
      "Processing Record 47 of Set 6 | tabas\n",
      "Processing Record 48 of Set 6 | samusu\n",
      "City not found. Skipping...\n",
      "Processing Record 49 of Set 6 | varkaus\n",
      "Processing Record 0 of Set 7 | kaeo\n",
      "Processing Record 1 of Set 7 | broome\n",
      "Processing Record 2 of Set 7 | haines junction\n",
      "Processing Record 3 of Set 7 | eldikan\n",
      "City not found. Skipping...\n",
      "Processing Record 4 of Set 7 | pemba\n",
      "Processing Record 5 of Set 7 | solnechnyy\n",
      "Processing Record 6 of Set 7 | ancud\n",
      "Processing Record 7 of Set 7 | panjab\n",
      "Processing Record 8 of Set 7 | vila franca do campo\n",
      "Processing Record 9 of Set 7 | okha\n",
      "Processing Record 10 of Set 7 | pacific grove\n",
      "Processing Record 11 of Set 7 | sokoni\n",
      "Processing Record 12 of Set 7 | belz\n",
      "Processing Record 13 of Set 7 | upernavik\n",
      "Processing Record 14 of Set 7 | saint-saulve\n",
      "Processing Record 15 of Set 7 | kamaishi\n",
      "Processing Record 16 of Set 7 | soyo\n",
      "Processing Record 17 of Set 7 | bardiyah\n",
      "Processing Record 18 of Set 7 | pingxiang\n",
      "Processing Record 19 of Set 7 | surt\n",
      "Processing Record 20 of Set 7 | katangli\n",
      "Processing Record 21 of Set 7 | aklavik\n",
      "Processing Record 22 of Set 7 | galesong\n",
      "Processing Record 23 of Set 7 | san francisco\n",
      "Processing Record 24 of Set 7 | hasaki\n",
      "Processing Record 25 of Set 7 | vao\n",
      "Processing Record 26 of Set 7 | jalu\n",
      "Processing Record 27 of Set 7 | arvika\n",
      "Processing Record 28 of Set 7 | yunyang\n",
      "Processing Record 29 of Set 7 | capreol\n",
      "Processing Record 30 of Set 7 | umm kaddadah\n",
      "Processing Record 31 of Set 7 | russell\n",
      "Processing Record 32 of Set 7 | pangnirtung\n",
      "Processing Record 33 of Set 7 | novobiryusinskiy\n",
      "Processing Record 34 of Set 7 | geraldton\n",
      "Processing Record 35 of Set 7 | turukhansk\n",
      "Processing Record 36 of Set 7 | kandrian\n",
      "Processing Record 37 of Set 7 | amderma\n",
      "City not found. Skipping...\n",
      "Processing Record 38 of Set 7 | puerto cabezas\n",
      "Processing Record 39 of Set 7 | hami\n",
      "Processing Record 40 of Set 7 | kalabo\n",
      "Processing Record 41 of Set 7 | ngukurr\n",
      "City not found. Skipping...\n",
      "Processing Record 42 of Set 7 | progreso\n",
      "Processing Record 43 of Set 7 | sawtell\n",
      "Processing Record 44 of Set 7 | bajo baudo\n",
      "City not found. Skipping...\n",
      "Processing Record 45 of Set 7 | cozumel\n",
      "Processing Record 46 of Set 7 | necochea\n",
      "Processing Record 47 of Set 7 | adrar\n",
      "Processing Record 48 of Set 7 | umm durman\n",
      "City not found. Skipping...\n",
      "Processing Record 49 of Set 7 | gladstone\n",
      "Processing Record 0 of Set 8 | pacocha\n",
      "Processing Record 1 of Set 8 | walvis bay\n",
      "Processing Record 2 of Set 8 | kangaatsiaq\n",
      "Processing Record 3 of Set 8 | agnibilekrou\n",
      "Processing Record 4 of Set 8 | asau\n",
      "Processing Record 5 of Set 8 | helong\n",
      "Processing Record 6 of Set 8 | torbay\n",
      "Processing Record 7 of Set 8 | tanete\n",
      "Processing Record 8 of Set 8 | cabedelo\n",
      "Processing Record 9 of Set 8 | chicama\n",
      "Processing Record 10 of Set 8 | coruripe\n",
      "Processing Record 11 of Set 8 | hofn\n",
      "Processing Record 12 of Set 8 | basco\n",
      "Processing Record 13 of Set 8 | kasangulu\n",
      "Processing Record 14 of Set 8 | ishigaki\n",
      "Processing Record 15 of Set 8 | manicore\n",
      "Processing Record 16 of Set 8 | mahibadhoo\n",
      "Processing Record 17 of Set 8 | vestmannaeyjar\n",
      "Processing Record 18 of Set 8 | pangai\n",
      "Processing Record 19 of Set 8 | nicosia\n",
      "Processing Record 20 of Set 8 | tautira\n",
      "Processing Record 21 of Set 8 | campbell river\n",
      "Processing Record 22 of Set 8 | veraval\n",
      "Processing Record 23 of Set 8 | marv dasht\n",
      "City not found. Skipping...\n",
      "Processing Record 24 of Set 8 | waddan\n",
      "Processing Record 25 of Set 8 | touros\n",
      "Processing Record 26 of Set 8 | biak\n",
      "Processing Record 27 of Set 8 | tiznit\n",
      "Processing Record 28 of Set 8 | salalah\n"
     ]
    },
    {
     "name": "stdout",
     "output_type": "stream",
     "text": [
      "Processing Record 29 of Set 8 | mangla\n",
      "Processing Record 30 of Set 8 | berlevag\n",
      "Processing Record 31 of Set 8 | san remo\n",
      "Processing Record 32 of Set 8 | faya\n",
      "Processing Record 33 of Set 8 | isangel\n",
      "Processing Record 34 of Set 8 | haibowan\n",
      "City not found. Skipping...\n",
      "Processing Record 35 of Set 8 | merrill\n",
      "Processing Record 36 of Set 8 | sentyabrskiy\n",
      "City not found. Skipping...\n",
      "Processing Record 37 of Set 8 | sergeyevka\n",
      "Processing Record 38 of Set 8 | tabou\n",
      "Processing Record 39 of Set 8 | juegang\n",
      "Processing Record 40 of Set 8 | kopavogur\n",
      "Processing Record 41 of Set 8 | labelle\n",
      "Processing Record 42 of Set 8 | saint-augustin\n",
      "Processing Record 43 of Set 8 | meyungs\n",
      "City not found. Skipping...\n",
      "Processing Record 44 of Set 8 | tutoia\n",
      "Processing Record 45 of Set 8 | pimentel\n",
      "Processing Record 46 of Set 8 | kokopo\n",
      "Processing Record 47 of Set 8 | ituni\n",
      "City not found. Skipping...\n",
      "Processing Record 48 of Set 8 | rameswaram\n",
      "Processing Record 49 of Set 8 | nishihara\n",
      "Processing Record 0 of Set 9 | norman wells\n",
      "Processing Record 1 of Set 9 | chaykovskiy\n",
      "Processing Record 2 of Set 9 | gumdag\n",
      "Processing Record 3 of Set 9 | fairbanks\n",
      "Processing Record 4 of Set 9 | yankton\n",
      "Processing Record 5 of Set 9 | sioux lookout\n",
      "Processing Record 6 of Set 9 | tigil\n",
      "Processing Record 7 of Set 9 | nalut\n",
      "Processing Record 8 of Set 9 | simpang\n",
      "Processing Record 9 of Set 9 | hay river\n",
      "Processing Record 10 of Set 9 | skibbereen\n",
      "Processing Record 11 of Set 9 | panguna\n",
      "Processing Record 12 of Set 9 | apodi\n",
      "Processing Record 13 of Set 9 | barcelos\n",
      "Processing Record 14 of Set 9 | san luis\n",
      "Processing Record 15 of Set 9 | luderitz\n",
      "Processing Record 16 of Set 9 | beloha\n",
      "Processing Record 17 of Set 9 | hualmay\n",
      "Processing Record 18 of Set 9 | kindu\n",
      "Processing Record 19 of Set 9 | puerto morazan\n",
      "Processing Record 20 of Set 9 | aktau\n",
      "Processing Record 21 of Set 9 | dunedin\n",
      "Processing Record 22 of Set 9 | yerbogachen\n",
      "Processing Record 23 of Set 9 | kamenskoye\n",
      "City not found. Skipping...\n",
      "Processing Record 24 of Set 9 | lavrentiya\n",
      "Processing Record 25 of Set 9 | talnakh\n",
      "Processing Record 26 of Set 9 | balkhash\n",
      "Processing Record 27 of Set 9 | iralaya\n",
      "Processing Record 28 of Set 9 | kota kinabalu\n",
      "Processing Record 29 of Set 9 | silver city\n",
      "Processing Record 30 of Set 9 | santa cecilia\n",
      "Processing Record 31 of Set 9 | ternate\n",
      "Processing Record 32 of Set 9 | krasnoselkup\n",
      "Processing Record 33 of Set 9 | vila\n",
      "Processing Record 34 of Set 9 | gobindapur\n",
      "Processing Record 35 of Set 9 | luchingu\n",
      "Processing Record 36 of Set 9 | petropavlovsk-kamchatskiy\n",
      "Processing Record 37 of Set 9 | kumluca\n",
      "Processing Record 38 of Set 9 | vanavara\n",
      "Processing Record 39 of Set 9 | port hardy\n",
      "Processing Record 40 of Set 9 | vagur\n",
      "Processing Record 41 of Set 9 | oranjemund\n",
      "Processing Record 42 of Set 9 | ust-tsilma\n",
      "Processing Record 43 of Set 9 | iwaki\n",
      "Processing Record 44 of Set 9 | college\n",
      "Processing Record 45 of Set 9 | marawi\n",
      "Processing Record 46 of Set 9 | guiyang\n",
      "Processing Record 47 of Set 9 | pinhao\n",
      "Processing Record 48 of Set 9 | bur gabo\n",
      "City not found. Skipping...\n",
      "Processing Record 49 of Set 9 | zhigansk\n",
      "Processing Record 0 of Set 10 | canberra\n",
      "Processing Record 1 of Set 10 | vaitupu\n",
      "City not found. Skipping...\n",
      "Processing Record 2 of Set 10 | casambalangan\n",
      "Processing Record 3 of Set 10 | zhoucheng\n",
      "Processing Record 4 of Set 10 | saleaula\n",
      "City not found. Skipping...\n",
      "Processing Record 5 of Set 10 | coralville\n",
      "Processing Record 6 of Set 10 | komatipoort\n",
      "Processing Record 7 of Set 10 | inhambane\n",
      "Processing Record 8 of Set 10 | flinders\n",
      "Processing Record 9 of Set 10 | laguna\n",
      "Processing Record 10 of Set 10 | at-bashi\n",
      "Processing Record 11 of Set 10 | warqla\n",
      "City not found. Skipping...\n",
      "Processing Record 12 of Set 10 | bereda\n",
      "Processing Record 13 of Set 10 | itapirapua\n",
      "Processing Record 14 of Set 10 | nueve de julio\n",
      "Processing Record 15 of Set 10 | kuryk\n",
      "Processing Record 16 of Set 10 | muros\n",
      "Processing Record 17 of Set 10 | guerrero negro\n",
      "Processing Record 18 of Set 10 | sao joao da barra\n",
      "Processing Record 19 of Set 10 | klaksvik\n",
      "Processing Record 20 of Set 10 | pudozh\n",
      "Processing Record 21 of Set 10 | cerritos\n",
      "Processing Record 22 of Set 10 | acarau\n",
      "Processing Record 23 of Set 10 | scarborough\n",
      "Processing Record 24 of Set 10 | bujanovac\n",
      "Processing Record 25 of Set 10 | kharan\n",
      "Processing Record 26 of Set 10 | palmer\n",
      "Processing Record 27 of Set 10 | marienburg\n",
      "Processing Record 28 of Set 10 | wattegama\n",
      "Processing Record 29 of Set 10 | santa cruz\n",
      "Processing Record 30 of Set 10 | cabo san lucas\n",
      "Processing Record 31 of Set 10 | senmonorom\n",
      "City not found. Skipping...\n",
      "Processing Record 32 of Set 10 | marzuq\n",
      "Processing Record 33 of Set 10 | taltal\n",
      "Processing Record 34 of Set 10 | williamsburg\n",
      "Processing Record 35 of Set 10 | waipawa\n",
      "Processing Record 36 of Set 10 | craigieburn\n",
      "Processing Record 37 of Set 10 | manado\n",
      "Processing Record 38 of Set 10 | nybro\n",
      "Processing Record 39 of Set 10 | hanyang\n",
      "Processing Record 40 of Set 10 | boke\n",
      "Processing Record 41 of Set 10 | foam lake\n",
      "Processing Record 42 of Set 10 | honiara\n",
      "Processing Record 43 of Set 10 | concarneau\n",
      "Processing Record 44 of Set 10 | caravaggio\n",
      "Processing Record 45 of Set 10 | lamu\n",
      "Processing Record 46 of Set 10 | do gonbadan\n",
      "Processing Record 47 of Set 10 | huanren\n",
      "Processing Record 48 of Set 10 | montepuez\n",
      "Processing Record 49 of Set 10 | riyadh\n",
      "Processing Record 0 of Set 11 | barbar\n",
      "City not found. Skipping...\n",
      "Processing Record 1 of Set 11 | linguere\n",
      "Processing Record 2 of Set 11 | elko\n",
      "Processing Record 3 of Set 11 | floro\n",
      "Processing Record 4 of Set 11 | baykit\n",
      "Processing Record 5 of Set 11 | dutse\n",
      "Processing Record 6 of Set 11 | pochutla\n",
      "Processing Record 7 of Set 11 | nanga eboko\n",
      "Processing Record 8 of Set 11 | molteno\n",
      "Processing Record 9 of Set 11 | sandi\n",
      "Processing Record 10 of Set 11 | leningradskiy\n",
      "Processing Record 11 of Set 11 | troy\n",
      "Processing Record 12 of Set 11 | cap malheureux\n",
      "Processing Record 13 of Set 11 | yuksekova\n",
      "Processing Record 14 of Set 11 | kulunda\n",
      "Processing Record 15 of Set 11 | beipiao\n",
      "Processing Record 16 of Set 11 | quatre cocos\n",
      "Processing Record 17 of Set 11 | inza\n",
      "Processing Record 18 of Set 11 | kashary\n",
      "Processing Record 19 of Set 11 | diego de almagro\n",
      "Processing Record 20 of Set 11 | temaraia\n",
      "City not found. Skipping...\n",
      "Processing Record 21 of Set 11 | goya\n",
      "Processing Record 22 of Set 11 | kayfan\n",
      "City not found. Skipping...\n",
      "Processing Record 23 of Set 11 | beeville\n",
      "Processing Record 24 of Set 11 | kholodnyy\n",
      "Processing Record 25 of Set 11 | porto novo\n",
      "Processing Record 26 of Set 11 | matara\n",
      "Processing Record 27 of Set 11 | marcona\n",
      "City not found. Skipping...\n",
      "Processing Record 28 of Set 11 | saint-francois\n",
      "Processing Record 29 of Set 11 | banff\n",
      "Processing Record 30 of Set 11 | okhotsk\n",
      "Processing Record 31 of Set 11 | yagodnoye\n",
      "Processing Record 32 of Set 11 | tars\n",
      "Processing Record 33 of Set 11 | sargatskoye\n",
      "Processing Record 34 of Set 11 | araouane\n",
      "Processing Record 35 of Set 11 | guangyuan\n",
      "Processing Record 36 of Set 11 | san juan bautista\n",
      "Processing Record 37 of Set 11 | ban nahin\n",
      "Processing Record 38 of Set 11 | bilibino\n",
      "Processing Record 39 of Set 11 | tarko-sale\n",
      "Processing Record 40 of Set 11 | ambilobe\n",
      "Processing Record 41 of Set 11 | manitouwadge\n",
      "Processing Record 42 of Set 11 | chagda\n",
      "City not found. Skipping...\n",
      "Processing Record 43 of Set 11 | bathsheba\n",
      "Processing Record 44 of Set 11 | korla\n",
      "Processing Record 45 of Set 11 | minden\n",
      "Processing Record 46 of Set 11 | poum\n",
      "Processing Record 47 of Set 11 | matao\n",
      "Processing Record 48 of Set 11 | satitoa\n",
      "City not found. Skipping...\n",
      "Processing Record 49 of Set 11 | minab\n",
      "Processing Record 0 of Set 12 | muli\n",
      "Processing Record 1 of Set 12 | gorontalo\n",
      "Processing Record 2 of Set 12 | wilmington\n",
      "Processing Record 3 of Set 12 | mount isa\n",
      "Processing Record 4 of Set 12 | wabrzezno\n",
      "Processing Record 5 of Set 12 | bhawanipatna\n",
      "Processing Record 6 of Set 12 | jiwani\n",
      "Processing Record 7 of Set 12 | maryville\n",
      "Processing Record 8 of Set 12 | kamiiso\n",
      "Processing Record 9 of Set 12 | aranos\n",
      "Processing Record 10 of Set 12 | port-cartier\n",
      "Processing Record 11 of Set 12 | tecoanapa\n",
      "Processing Record 12 of Set 12 | mocuba\n",
      "Processing Record 13 of Set 12 | iwanai\n",
      "Processing Record 14 of Set 12 | conde\n",
      "Processing Record 15 of Set 12 | leh\n",
      "Processing Record 16 of Set 12 | hirara\n"
     ]
    },
    {
     "name": "stdout",
     "output_type": "stream",
     "text": [
      "Processing Record 17 of Set 12 | ravar\n",
      "Processing Record 18 of Set 12 | paris\n",
      "Processing Record 19 of Set 12 | auki\n",
      "Processing Record 20 of Set 12 | cam pha\n",
      "City not found. Skipping...\n",
      "Processing Record 21 of Set 12 | eureka\n",
      "Processing Record 22 of Set 12 | vitim\n",
      "Processing Record 23 of Set 12 | mocambique\n",
      "City not found. Skipping...\n",
      "Processing Record 24 of Set 12 | tsihombe\n",
      "City not found. Skipping...\n",
      "Processing Record 25 of Set 12 | beyla\n",
      "Processing Record 26 of Set 12 | tsiroanomandidy\n",
      "Processing Record 27 of Set 12 | alyangula\n",
      "Processing Record 28 of Set 12 | cedar city\n",
      "Processing Record 29 of Set 12 | rohnert park\n",
      "Processing Record 30 of Set 12 | pierre\n",
      "Processing Record 31 of Set 12 | sorong\n",
      "Processing Record 32 of Set 12 | issenye\n",
      "Processing Record 33 of Set 12 | namie\n",
      "Processing Record 34 of Set 12 | fukue\n",
      "Processing Record 35 of Set 12 | gizo\n",
      "Processing Record 36 of Set 12 | prabumulih\n",
      "Processing Record 37 of Set 12 | santa barbara\n",
      "Processing Record 38 of Set 12 | mezen\n",
      "Processing Record 39 of Set 12 | itarema\n",
      "Processing Record 40 of Set 12 | nanyamba\n",
      "Processing Record 41 of Set 12 | abaete\n",
      "Processing Record 42 of Set 12 | daru\n",
      "Processing Record 43 of Set 12 | belmonte\n",
      "Processing Record 44 of Set 12 | mehamn\n",
      "Processing Record 45 of Set 12 | saurimo\n",
      "Processing Record 46 of Set 12 | martapura\n",
      "Processing Record 47 of Set 12 | buqayq\n",
      "City not found. Skipping...\n",
      "Processing Record 48 of Set 12 | lensk\n",
      "Processing Record 49 of Set 12 | kysyl-syr\n",
      "Processing Record 0 of Set 13 | petropavlovka\n",
      "Processing Record 1 of Set 13 | sangar\n",
      "Processing Record 2 of Set 13 | ugoofaaru\n",
      "Processing Record 3 of Set 13 | mumford\n",
      "Processing Record 4 of Set 13 | maraa\n",
      "Processing Record 5 of Set 13 | rio verde de mato grosso\n",
      "Processing Record 6 of Set 13 | alghero\n",
      "Processing Record 7 of Set 13 | praia da vitoria\n",
      "Processing Record 8 of Set 13 | barawe\n",
      "City not found. Skipping...\n",
      "Processing Record 9 of Set 13 | constitucion\n",
      "Processing Record 10 of Set 13 | ferkessedougou\n",
      "Processing Record 11 of Set 13 | kedrovyy\n",
      "Processing Record 12 of Set 13 | riaba\n",
      "City not found. Skipping...\n",
      "Processing Record 13 of Set 13 | timra\n",
      "Processing Record 14 of Set 13 | cayenne\n",
      "Processing Record 15 of Set 13 | port macquarie\n",
      "-----------------------------\n",
      "Data Retrieval Complete      \n",
      "-----------------------------\n"
     ]
    }
   ],
   "source": [
    "# Starting URL for Weather Map API Call\n",
    "url = \"http://api.openweathermap.org/data/2.5/weather?units=Imperial&APPID=\" + weather_api_key\n",
    "\n",
    "\n",
    "# List of city data\n",
    "city_data = []\n",
    "\n",
    "# Print to logger\n",
    "print(\"Beginning Data Retrieval     \")\n",
    "print(\"-----------------------------\")\n",
    "\n",
    "# Create counters\n",
    "record_count = 1\n",
    "set_count = 1\n",
    "\n",
    "# Loop through all the cities in our list\n",
    "for i, city in enumerate(cities):\n",
    "        \n",
    "    # Group cities in sets of 50 for logging purposes\n",
    "    if (i % 50 == 0 and i >= 50):\n",
    "        set_count += 1\n",
    "        record_count = 0\n",
    "\n",
    "    # Create endpoint URL with each city\n",
    "    city_url = url + \"&q=\" + city\n",
    "    \n",
    "    # Log the url, record, and set numbers\n",
    "    print(\"Processing Record %s of Set %s | %s\" % (record_count, set_count, city))\n",
    "\n",
    "    # Add 1 to the record count\n",
    "    record_count += 1\n",
    "\n",
    "    # Run an API request for each of the cities\n",
    "    try:\n",
    "        # Parse the JSON and retrieve data\n",
    "        city_weather = requests.get(city_url).json()\n",
    "\n",
    "        # Parse out the max temp, humidity, and cloudiness\n",
    "        city_lat = city_weather[\"coord\"][\"lat\"]\n",
    "        city_lng = city_weather[\"coord\"][\"lon\"]\n",
    "        city_max_temp = city_weather[\"main\"][\"temp_max\"]\n",
    "        city_humidity = city_weather[\"main\"][\"humidity\"]\n",
    "        city_clouds = city_weather[\"clouds\"][\"all\"]\n",
    "        city_wind = city_weather[\"wind\"][\"speed\"]\n",
    "        city_country = city_weather[\"sys\"][\"country\"]\n",
    "        city_date = city_weather[\"dt\"]\n",
    "\n",
    "        # Append the City information into city_data list\n",
    "        city_data.append({\"City\": city, \n",
    "                          \"Lat\": city_lat, \n",
    "                          \"Lng\": city_lng, \n",
    "                          \"Max Temp\": city_max_temp,\n",
    "                          \"Humidity\": city_humidity,\n",
    "                          \"Cloudiness\": city_clouds,\n",
    "                          \"Wind Speed\": city_wind,\n",
    "                          \"Country\": city_country,\n",
    "                          \"Date\": city_date})\n",
    "\n",
    "    # If an error is experienced, skip the city\n",
    "    except:\n",
    "        print(\"City not found. Skipping...\")\n",
    "        pass\n",
    "              \n",
    "# Indicate that Data Loading is complete \n",
    "print(\"-----------------------------\")\n",
    "print(\"Data Retrieval Complete      \")\n",
    "print(\"-----------------------------\")"
   ]
  },
  {
   "cell_type": "code",
   "execution_count": 4,
   "metadata": {},
   "outputs": [
    {
     "data": {
      "text/plain": [
       "City          565\n",
       "Lat           565\n",
       "Lng           565\n",
       "Max Temp      565\n",
       "Humidity      565\n",
       "Cloudiness    565\n",
       "Wind Speed    565\n",
       "Country       565\n",
       "Date          565\n",
       "dtype: int64"
      ]
     },
     "execution_count": 4,
     "metadata": {},
     "output_type": "execute_result"
    }
   ],
   "source": [
    "# Export the city data into a .csv.\n",
    "# Display the DataFrame\n",
    "\n",
    "city_data_pd = pd.DataFrame(city_data)\n",
    "city_data_pd.count()"
   ]
  },
  {
   "cell_type": "code",
   "execution_count": 5,
   "metadata": {},
   "outputs": [],
   "source": [
    "city_data_pd.to_csv('city_data_pd.csv')"
   ]
  },
  {
   "cell_type": "code",
   "execution_count": 6,
   "metadata": {},
   "outputs": [
    {
     "data": {
      "text/html": [
       "<div>\n",
       "<style scoped>\n",
       "    .dataframe tbody tr th:only-of-type {\n",
       "        vertical-align: middle;\n",
       "    }\n",
       "\n",
       "    .dataframe tbody tr th {\n",
       "        vertical-align: top;\n",
       "    }\n",
       "\n",
       "    .dataframe thead th {\n",
       "        text-align: right;\n",
       "    }\n",
       "</style>\n",
       "<table border=\"1\" class=\"dataframe\">\n",
       "  <thead>\n",
       "    <tr style=\"text-align: right;\">\n",
       "      <th></th>\n",
       "      <th>City</th>\n",
       "      <th>Lat</th>\n",
       "      <th>Lng</th>\n",
       "      <th>Max Temp</th>\n",
       "      <th>Humidity</th>\n",
       "      <th>Cloudiness</th>\n",
       "      <th>Wind Speed</th>\n",
       "      <th>Country</th>\n",
       "      <th>Date</th>\n",
       "    </tr>\n",
       "  </thead>\n",
       "  <tbody>\n",
       "    <tr>\n",
       "      <th>0</th>\n",
       "      <td>mar del plata</td>\n",
       "      <td>-38.00</td>\n",
       "      <td>-57.56</td>\n",
       "      <td>55.99</td>\n",
       "      <td>28</td>\n",
       "      <td>0</td>\n",
       "      <td>17.22</td>\n",
       "      <td>AR</td>\n",
       "      <td>1597681571</td>\n",
       "    </tr>\n",
       "    <tr>\n",
       "      <th>1</th>\n",
       "      <td>atuona</td>\n",
       "      <td>-9.80</td>\n",
       "      <td>-139.03</td>\n",
       "      <td>78.24</td>\n",
       "      <td>73</td>\n",
       "      <td>0</td>\n",
       "      <td>17.16</td>\n",
       "      <td>PF</td>\n",
       "      <td>1597681618</td>\n",
       "    </tr>\n",
       "    <tr>\n",
       "      <th>2</th>\n",
       "      <td>kamina</td>\n",
       "      <td>-8.74</td>\n",
       "      <td>24.99</td>\n",
       "      <td>79.09</td>\n",
       "      <td>17</td>\n",
       "      <td>0</td>\n",
       "      <td>5.73</td>\n",
       "      <td>CD</td>\n",
       "      <td>1597681816</td>\n",
       "    </tr>\n",
       "    <tr>\n",
       "      <th>3</th>\n",
       "      <td>vaini</td>\n",
       "      <td>-21.20</td>\n",
       "      <td>-175.20</td>\n",
       "      <td>69.80</td>\n",
       "      <td>77</td>\n",
       "      <td>75</td>\n",
       "      <td>9.17</td>\n",
       "      <td>TO</td>\n",
       "      <td>1597681816</td>\n",
       "    </tr>\n",
       "    <tr>\n",
       "      <th>4</th>\n",
       "      <td>bay roberts</td>\n",
       "      <td>47.60</td>\n",
       "      <td>-53.26</td>\n",
       "      <td>78.01</td>\n",
       "      <td>41</td>\n",
       "      <td>80</td>\n",
       "      <td>6.22</td>\n",
       "      <td>CA</td>\n",
       "      <td>1597681816</td>\n",
       "    </tr>\n",
       "  </tbody>\n",
       "</table>\n",
       "</div>"
      ],
      "text/plain": [
       "            City    Lat     Lng  Max Temp  Humidity  Cloudiness  Wind Speed  \\\n",
       "0  mar del plata -38.00  -57.56     55.99        28           0       17.22   \n",
       "1         atuona  -9.80 -139.03     78.24        73           0       17.16   \n",
       "2         kamina  -8.74   24.99     79.09        17           0        5.73   \n",
       "3          vaini -21.20 -175.20     69.80        77          75        9.17   \n",
       "4    bay roberts  47.60  -53.26     78.01        41          80        6.22   \n",
       "\n",
       "  Country        Date  \n",
       "0      AR  1597681571  \n",
       "1      PF  1597681618  \n",
       "2      CD  1597681816  \n",
       "3      TO  1597681816  \n",
       "4      CA  1597681816  "
      ]
     },
     "execution_count": 6,
     "metadata": {},
     "output_type": "execute_result"
    }
   ],
   "source": [
    "# Display the City Data Frame\n",
    "city_data_pd.head()"
   ]
  },
  {
   "cell_type": "code",
   "execution_count": 7,
   "metadata": {},
   "outputs": [
    {
     "data": {
      "text/html": [
       "<div>\n",
       "<style scoped>\n",
       "    .dataframe tbody tr th:only-of-type {\n",
       "        vertical-align: middle;\n",
       "    }\n",
       "\n",
       "    .dataframe tbody tr th {\n",
       "        vertical-align: top;\n",
       "    }\n",
       "\n",
       "    .dataframe thead th {\n",
       "        text-align: right;\n",
       "    }\n",
       "</style>\n",
       "<table border=\"1\" class=\"dataframe\">\n",
       "  <thead>\n",
       "    <tr style=\"text-align: right;\">\n",
       "      <th></th>\n",
       "      <th>City</th>\n",
       "      <th>Lat</th>\n",
       "      <th>Lng</th>\n",
       "      <th>Max Temp</th>\n",
       "      <th>Humidity</th>\n",
       "      <th>Cloudiness</th>\n",
       "      <th>Wind Speed</th>\n",
       "      <th>Country</th>\n",
       "      <th>Date</th>\n",
       "    </tr>\n",
       "  </thead>\n",
       "  <tbody>\n",
       "  </tbody>\n",
       "</table>\n",
       "</div>"
      ],
      "text/plain": [
       "Empty DataFrame\n",
       "Columns: [City, Lat, Lng, Max Temp, Humidity, Cloudiness, Wind Speed, Country, Date]\n",
       "Index: []"
      ]
     },
     "execution_count": 7,
     "metadata": {},
     "output_type": "execute_result"
    }
   ],
   "source": [
    "# Inspect the data and remove the cities where the humidity > 100%.\n",
    "# Skip this step if there are no cities that have humidity > 100%.\n",
    "city_data_pd[city_data_pd.Humidity > 100]"
   ]
  },
  {
   "cell_type": "code",
   "execution_count": 8,
   "metadata": {},
   "outputs": [],
   "source": [
    "dirty_city_data = city_data_pd[(city_data_pd[\"Humidity\"] > 100)].index"
   ]
  },
  {
   "cell_type": "code",
   "execution_count": 9,
   "metadata": {},
   "outputs": [
    {
     "data": {
      "text/html": [
       "<div>\n",
       "<style scoped>\n",
       "    .dataframe tbody tr th:only-of-type {\n",
       "        vertical-align: middle;\n",
       "    }\n",
       "\n",
       "    .dataframe tbody tr th {\n",
       "        vertical-align: top;\n",
       "    }\n",
       "\n",
       "    .dataframe thead th {\n",
       "        text-align: right;\n",
       "    }\n",
       "</style>\n",
       "<table border=\"1\" class=\"dataframe\">\n",
       "  <thead>\n",
       "    <tr style=\"text-align: right;\">\n",
       "      <th></th>\n",
       "      <th>City</th>\n",
       "      <th>Lat</th>\n",
       "      <th>Lng</th>\n",
       "      <th>Max Temp</th>\n",
       "      <th>Humidity</th>\n",
       "      <th>Cloudiness</th>\n",
       "      <th>Wind Speed</th>\n",
       "      <th>Country</th>\n",
       "      <th>Date</th>\n",
       "    </tr>\n",
       "  </thead>\n",
       "  <tbody>\n",
       "    <tr>\n",
       "      <th>0</th>\n",
       "      <td>mar del plata</td>\n",
       "      <td>-38.00</td>\n",
       "      <td>-57.56</td>\n",
       "      <td>55.99</td>\n",
       "      <td>28</td>\n",
       "      <td>0</td>\n",
       "      <td>17.22</td>\n",
       "      <td>AR</td>\n",
       "      <td>1597681571</td>\n",
       "    </tr>\n",
       "    <tr>\n",
       "      <th>1</th>\n",
       "      <td>atuona</td>\n",
       "      <td>-9.80</td>\n",
       "      <td>-139.03</td>\n",
       "      <td>78.24</td>\n",
       "      <td>73</td>\n",
       "      <td>0</td>\n",
       "      <td>17.16</td>\n",
       "      <td>PF</td>\n",
       "      <td>1597681618</td>\n",
       "    </tr>\n",
       "    <tr>\n",
       "      <th>2</th>\n",
       "      <td>kamina</td>\n",
       "      <td>-8.74</td>\n",
       "      <td>24.99</td>\n",
       "      <td>79.09</td>\n",
       "      <td>17</td>\n",
       "      <td>0</td>\n",
       "      <td>5.73</td>\n",
       "      <td>CD</td>\n",
       "      <td>1597681816</td>\n",
       "    </tr>\n",
       "    <tr>\n",
       "      <th>3</th>\n",
       "      <td>vaini</td>\n",
       "      <td>-21.20</td>\n",
       "      <td>-175.20</td>\n",
       "      <td>69.80</td>\n",
       "      <td>77</td>\n",
       "      <td>75</td>\n",
       "      <td>9.17</td>\n",
       "      <td>TO</td>\n",
       "      <td>1597681816</td>\n",
       "    </tr>\n",
       "    <tr>\n",
       "      <th>4</th>\n",
       "      <td>bay roberts</td>\n",
       "      <td>47.60</td>\n",
       "      <td>-53.26</td>\n",
       "      <td>78.01</td>\n",
       "      <td>41</td>\n",
       "      <td>80</td>\n",
       "      <td>6.22</td>\n",
       "      <td>CA</td>\n",
       "      <td>1597681816</td>\n",
       "    </tr>\n",
       "  </tbody>\n",
       "</table>\n",
       "</div>"
      ],
      "text/plain": [
       "            City    Lat     Lng  Max Temp  Humidity  Cloudiness  Wind Speed  \\\n",
       "0  mar del plata -38.00  -57.56     55.99        28           0       17.22   \n",
       "1         atuona  -9.80 -139.03     78.24        73           0       17.16   \n",
       "2         kamina  -8.74   24.99     79.09        17           0        5.73   \n",
       "3          vaini -21.20 -175.20     69.80        77          75        9.17   \n",
       "4    bay roberts  47.60  -53.26     78.01        41          80        6.22   \n",
       "\n",
       "  Country        Date  \n",
       "0      AR  1597681571  \n",
       "1      PF  1597681618  \n",
       "2      CD  1597681816  \n",
       "3      TO  1597681816  \n",
       "4      CA  1597681816  "
      ]
     },
     "execution_count": 9,
     "metadata": {},
     "output_type": "execute_result"
    }
   ],
   "source": [
    "# Make a new DataFrame equal to the city data to drop all humidity outliers by index.\n",
    "# Passing \"inplace=False\" will make a copy of the city_data DataFrame, which we call \"clean_city_data\".\n",
    "\n",
    "clean_city_data = city_data_pd.drop(dirty_city_data, inplace=False)\n",
    "clean_city_data.head()"
   ]
  },
  {
   "cell_type": "markdown",
   "metadata": {},
   "source": [
    "## Plotting the Data\n",
    "* Use proper labeling of the plots using plot titles (including date of analysis) and axes labels.\n",
    "* Save the plotted figures as .pngs."
   ]
  },
  {
   "cell_type": "markdown",
   "metadata": {},
   "source": [
    "## Latitude vs. Temperature Plot"
   ]
  },
  {
   "cell_type": "code",
   "execution_count": 10,
   "metadata": {
    "scrolled": true
   },
   "outputs": [
    {
     "data": {
      "image/png": "[encoded data removed]",
      "text/plain": [
       "<Figure size 432x288 with 1 Axes>"
      ]
     },
     "metadata": {
      "needs_background": "light"
     },
     "output_type": "display_data"
    }
   ],
   "source": [
    "plt.scatter(clean_city_data[\"Lat\"],clean_city_data[\"Max Temp\"], marker = \"o\", s = 10)\n",
    "\n",
    "# Labels\n",
    "plt.title(\"Latitude vs. Temperature\")\n",
    "plt.ylabel(\"Temperature (F)\")\n",
    "plt.xlabel(\"Latitude\")\n",
    "plt.grid(True)\n",
    "\n",
    "# plt.savefig(\"Output_SPlots/Temp_vs_Latitude.png\")\n",
    "\n",
    "plt.show()"
   ]
  },
  {
   "cell_type": "markdown",
   "metadata": {},
   "source": [
    "## Latitude vs. Humidity Plot"
   ]
  },
  {
   "cell_type": "code",
   "execution_count": 11,
   "metadata": {},
   "outputs": [
    {
     "data": {
      "image/png": "[encoded data removed]",
      "text/plain": [
       "<Figure size 432x288 with 1 Axes>"
      ]
     },
     "metadata": {
      "needs_background": "light"
     },
     "output_type": "display_data"
    }
   ],
   "source": [
    "plt.scatter(clean_city_data[\"Lat\"],clean_city_data[\"Humidity\"], marker = \"o\", s = 10)\n",
    "\n",
    "# Labels\n",
    "plt.title(\"Latitude vs. Humidity\")\n",
    "plt.ylabel(\"Humidity (%)\")\n",
    "plt.xlabel(\"Latitude\")\n",
    "plt.grid(True)\n",
    "\n",
    "# Save the figure\n",
    "# plt.savefig(\"Output_SPlots/Humidity_vs_Latitude.png\")\n",
    "\n",
    "# Show plot\n",
    "plt.show()"
   ]
  },
  {
   "cell_type": "markdown",
   "metadata": {},
   "source": [
    "## Latitude vs. Cloudiness Plot"
   ]
  },
  {
   "cell_type": "code",
   "execution_count": 12,
   "metadata": {},
   "outputs": [
    {
     "data": {
      "image/png": "[encoded data removed]",
      "text/plain": [
       "<Figure size 432x288 with 1 Axes>"
      ]
     },
     "metadata": {
      "needs_background": "light"
     },
     "output_type": "display_data"
    }
   ],
   "source": [
    "plt.scatter(clean_city_data[\"Lat\"],clean_city_data[\"Cloudiness\"], marker = \"o\", s = 10)\n",
    "\n",
    "# Incorporate the other graph properties\n",
    "plt.title(\"Latitude vs. Cloudiness\")\n",
    "plt.ylabel(\"Cloudiness (%)\")\n",
    "plt.xlabel(\"Latitude\")\n",
    "plt.grid(True)\n",
    "\n",
    "# Save the figure\n",
    "# plt.savefig(\"Output_Plots/Cloudiness_vs_Latitude.png\")\n",
    "\n",
    "# Show plot\n",
    "plt.show()"
   ]
  },
  {
   "cell_type": "markdown",
   "metadata": {},
   "source": [
    "## Latitude vs. Wind Speed Plot"
   ]
  },
  {
   "cell_type": "code",
   "execution_count": 13,
   "metadata": {},
   "outputs": [
    {
     "data": {
      "image/png": "[encoded data removed]",
      "text/plain": [
       "<Figure size 432x288 with 1 Axes>"
      ]
     },
     "metadata": {
      "needs_background": "light"
     },
     "output_type": "display_data"
    }
   ],
   "source": [
    "# Build a scatter plot for each data type\n",
    "plt.scatter(clean_city_data[\"Lat\"],clean_city_data[\"Wind Speed\"], marker = \"o\", s = 10)\n",
    "\n",
    "# Labels\n",
    "plt.title(\"Latitude vs. Wind Speed\")\n",
    "plt.ylabel(\"Wind Speed (mph)\")\n",
    "plt.xlabel(\"Latitude\")\n",
    "plt.grid(True)\n",
    "\n",
    "# Save the figure\n",
    "# plt.savefig(\"Output_Plots/Wind_Speed_vs_Latitude.png\")\n",
    "\n",
    "# Show plot\n",
    "plt.show()"
   ]
  },
  {
   "cell_type": "markdown",
   "metadata": {},
   "source": [
    "## Linear Regression"
   ]
  },
  {
   "cell_type": "code",
   "execution_count": 14,
   "metadata": {},
   "outputs": [],
   "source": [
    "# OPTIONAL: Create a function to create Linear Regression plots"
   ]
  },
  {
   "cell_type": "code",
   "execution_count": 15,
   "metadata": {},
   "outputs": [],
   "source": [
    "# Create Northern and Southern Hemisphere DataFrames\n",
    "\n",
    "northern_df = clean_city_data.loc[pd.to_numeric(clean_city_data[\"Lat\"]).astype(float) > 0, :]\n",
    "southern_df = clean_city_data.loc[pd.to_numeric(clean_city_data[\"Lat\"]).astype(float) < 0, :]\n"
   ]
  },
  {
   "cell_type": "code",
   "execution_count": 16,
   "metadata": {},
   "outputs": [],
   "source": [
    "def plotLinearRegression(xdata,ydata,xlbl,ylbl,lblpos,ifig):\n",
    "    (slope, intercept, rvalue, pvalue, stderr) = linregress(xdata, ydata)\n",
    "    print(f\"The r-squared is: {rvalue}\")\n",
    "    linregress_values = xdata * slope + intercept\n",
    "    line_eq = \"y = \" + str(round(slope,2)) + \"x + \" + str(round(intercept,2))\n",
    "\n",
    "    plt.scatter(xdata,ydata)\n",
    "    plt.plot(xdata,linregress_values,\"r-\")\n",
    "    plt.annotate(line_eq,lblpos,fontsize=15,color=\"red\")\n",
    "    plt.xlabel(xlbl)\n",
    "    plt.ylabel(ylbl)\n",
    "#     plt.savefig(f\"output_data/fig{ifig}.png\")\n",
    "    plt.show()"
   ]
  },
  {
   "cell_type": "markdown",
   "metadata": {},
   "source": [
    "####  Northern Hemisphere - Max Temp vs. Latitude Linear Regression"
   ]
  },
  {
   "cell_type": "code",
   "execution_count": 17,
   "metadata": {},
   "outputs": [
    {
     "name": "stdout",
     "output_type": "stream",
     "text": [
      "The r-squared is: -0.7576605552780054\n"
     ]
    },
    {
     "data": {
      "image/png": "[encoded data removed]",
      "text/plain": [
       "<Figure size 432x288 with 1 Axes>"
      ]
     },
     "metadata": {
      "needs_background": "light"
     },
     "output_type": "display_data"
    }
   ],
   "source": [
    "xlbl = \"Lat\"\n",
    "ylbl = \"Max Temp\"\n",
    "lblpos = (10,40)\n",
    "plotLinearRegression(northern_df[xlbl],northern_df[ylbl],xlbl,ylbl,lblpos,5)"
   ]
  },
  {
   "cell_type": "markdown",
   "metadata": {},
   "source": [
    "####  Southern Hemisphere - Max Temp vs. Latitude Linear Regression"
   ]
  },
  {
   "cell_type": "code",
   "execution_count": 18,
   "metadata": {},
   "outputs": [
    {
     "name": "stdout",
     "output_type": "stream",
     "text": [
      "The r-squared is: 0.7946310438814493\n"
     ]
    },
    {
     "data": {
      "image/png": "[encoded data removed]",
      "text/plain": [
       "<Figure size 432x288 with 1 Axes>"
      ]
     },
     "metadata": {
      "needs_background": "light"
     },
     "output_type": "display_data"
    }
   ],
   "source": [
    "xlbl = \"Lat\"\n",
    "ylbl = \"Max Temp\"\n",
    "lblpos = (-50,80)\n",
    "plotLinearRegression(southern_df[xlbl],southern_df[ylbl],xlbl,ylbl,lblpos,5)"
   ]
  },
  {
   "cell_type": "markdown",
   "metadata": {},
   "source": [
    "####  Northern Hemisphere - Humidity (%) vs. Latitude Linear Regression"
   ]
  },
  {
   "cell_type": "code",
   "execution_count": 19,
   "metadata": {},
   "outputs": [
    {
     "name": "stdout",
     "output_type": "stream",
     "text": [
      "The r-squared is: 0.08045995548144187\n"
     ]
    },
    {
     "data": {
      "image/png": "[encoded data removed]",
      "text/plain": [
       "<Figure size 432x288 with 1 Axes>"
      ]
     },
     "metadata": {
      "needs_background": "light"
     },
     "output_type": "display_data"
    }
   ],
   "source": [
    "xlbl = \"Lat\"\n",
    "ylbl = \"Humidity\"\n",
    "lblpos = (45,10)\n",
    "plotLinearRegression(northern_df[xlbl],northern_df[ylbl],xlbl,ylbl,lblpos,5)"
   ]
  },
  {
   "cell_type": "markdown",
   "metadata": {},
   "source": [
    "####  Southern Hemisphere - Humidity (%) vs. Latitude Linear Regression"
   ]
  },
  {
   "cell_type": "code",
   "execution_count": 20,
   "metadata": {},
   "outputs": [
    {
     "name": "stdout",
     "output_type": "stream",
     "text": [
      "The r-squared is: -0.09305163103389597\n"
     ]
    },
    {
     "data": {
      "image/png": "[encoded data removed]",
      "text/plain": [
       "<Figure size 432x288 with 1 Axes>"
      ]
     },
     "metadata": {
      "needs_background": "light"
     },
     "output_type": "display_data"
    }
   ],
   "source": [
    "xlbl = \"Lat\"\n",
    "ylbl = \"Humidity\"\n",
    "lblpos = (-50,20)\n",
    "plotLinearRegression(southern_df[xlbl],southern_df[ylbl],xlbl,ylbl,lblpos,5)"
   ]
  },
  {
   "cell_type": "markdown",
   "metadata": {},
   "source": [
    "####  Northern Hemisphere - Cloudiness (%) vs. Latitude Linear Regression"
   ]
  },
  {
   "cell_type": "code",
   "execution_count": 21,
   "metadata": {},
   "outputs": [
    {
     "name": "stdout",
     "output_type": "stream",
     "text": [
      "The r-squared is: 0.04081467119008947\n"
     ]
    },
    {
     "data": {
      "image/png": "[encoded data removed]",
      "text/plain": [
       "<Figure size 432x288 with 1 Axes>"
      ]
     },
     "metadata": {
      "needs_background": "light"
     },
     "output_type": "display_data"
    }
   ],
   "source": [
    "xlbl = \"Lat\"\n",
    "ylbl = \"Cloudiness\"\n",
    "lblpos = (20,55)\n",
    "plotLinearRegression(northern_df[xlbl],northern_df[ylbl],xlbl,ylbl,lblpos,5)"
   ]
  },
  {
   "cell_type": "markdown",
   "metadata": {},
   "source": [
    "####  Southern Hemisphere - Cloudiness (%) vs. Latitude Linear Regression"
   ]
  },
  {
   "cell_type": "code",
   "execution_count": 22,
   "metadata": {},
   "outputs": [
    {
     "name": "stdout",
     "output_type": "stream",
     "text": [
      "The r-squared is: -0.12462629245446182\n"
     ]
    },
    {
     "data": {
      "image/png": "[encoded data removed]",
      "text/plain": [
       "<Figure size 432x288 with 1 Axes>"
      ]
     },
     "metadata": {
      "needs_background": "light"
     },
     "output_type": "display_data"
    }
   ],
   "source": [
    "xlbl = \"Lat\"\n",
    "ylbl = \"Cloudiness\"\n",
    "lblpos = (-45,50)\n",
    "plotLinearRegression(southern_df[xlbl],southern_df[ylbl],xlbl,ylbl,lblpos,5)"
   ]
  },
  {
   "cell_type": "markdown",
   "metadata": {},
   "source": [
    "####  Northern Hemisphere - Wind Speed (mph) vs. Latitude Linear Regression"
   ]
  },
  {
   "cell_type": "code",
   "execution_count": 23,
   "metadata": {},
   "outputs": [
    {
     "name": "stdout",
     "output_type": "stream",
     "text": [
      "The r-squared is: -0.03408794371471237\n"
     ]
    },
    {
     "data": {
      "image/png": "[encoded data removed]",
      "text/plain": [
       "<Figure size 432x288 with 1 Axes>"
      ]
     },
     "metadata": {
      "needs_background": "light"
     },
     "output_type": "display_data"
    }
   ],
   "source": [
    "xlbl = \"Lat\"\n",
    "ylbl = \"Wind Speed\"\n",
    "lblpos = (5,35)\n",
    "plotLinearRegression(northern_df[xlbl],northern_df[ylbl],xlbl,ylbl,lblpos,5)"
   ]
  },
  {
   "cell_type": "markdown",
   "metadata": {},
   "source": [
    "####  Southern Hemisphere - Wind Speed (mph) vs. Latitude Linear Regression"
   ]
  },
  {
   "cell_type": "code",
   "execution_count": 24,
   "metadata": {},
   "outputs": [
    {
     "name": "stdout",
     "output_type": "stream",
     "text": [
      "The r-squared is: -0.03484560698079441\n"
     ]
    },
    {
     "data": {
      "image/png": "[encoded data removed]",
      "text/plain": [
       "<Figure size 432x288 with 1 Axes>"
      ]
     },
     "metadata": {
      "needs_background": "light"
     },
     "output_type": "display_data"
    }
   ],
   "source": [
    "xlbl = \"Lat\"\n",
    "ylbl = \"Wind Speed\"\n",
    "lblpos = (-50,18)\n",
    "plotLinearRegression(southern_df[xlbl],southern_df[ylbl],xlbl,ylbl,lblpos,5)"
   ]
  },
  {
   "cell_type": "code",
   "execution_count": null,
   "metadata": {},
   "outputs": [],
   "source": []
  }
 ],
 "metadata": {
  "anaconda-cloud": {},
  "kernel_info": {
   "name": "python3"
  },
  "kernelspec": {
   "display_name": "Python 3",
   "language": "python",
   "name": "python3"
  },
  "language_info": {
   "codemirror_mode": {
    "name": "ipython",
    "version": 3
   },
   "file_extension": ".py",
   "mimetype": "text/x-python",
   "name": "python",
   "nbconvert_exporter": "python",
   "pygments_lexer": "ipython3",
   "version": "3.7.6"
  },
  "latex_envs": {
   "LaTeX_envs_menu_present": true,
   "autoclose": false,
   "autocomplete": true,
   "bibliofile": "biblio.bib",
   "cite_by": "apalike",
   "current_citInitial": 1,
   "eqLabelWithNumbers": true,
   "eqNumInitial": 1,
   "hotkeys": {
    "equation": "Ctrl-E",
    "itemize": "Ctrl-I"
   },
   "labels_anchors": false,
   "latex_user_defs": false,
   "report_style_numbering": false,
   "user_envs_cfg": false
  },
  "nteract": {
   "version": "0.12.3"
  }
 },
 "nbformat": 4,
 "nbformat_minor": 2
}
